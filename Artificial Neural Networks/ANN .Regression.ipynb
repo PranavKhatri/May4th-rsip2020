{
 "cells": [
  {
   "cell_type": "code",
   "execution_count": 1,
   "metadata": {},
   "outputs": [],
   "source": [
    "import numpy as np\n",
    "import pandas as pd"
   ]
  },
  {
   "cell_type": "code",
   "execution_count": 2,
   "metadata": {},
   "outputs": [],
   "source": [
    "dataset = pd.read_csv(\"50_startups.csv\")"
   ]
  },
  {
   "cell_type": "code",
   "execution_count": 3,
   "metadata": {},
   "outputs": [
    {
     "data": {
      "text/html": [
       "<div>\n",
       "<style scoped>\n",
       "    .dataframe tbody tr th:only-of-type {\n",
       "        vertical-align: middle;\n",
       "    }\n",
       "\n",
       "    .dataframe tbody tr th {\n",
       "        vertical-align: top;\n",
       "    }\n",
       "\n",
       "    .dataframe thead th {\n",
       "        text-align: right;\n",
       "    }\n",
       "</style>\n",
       "<table border=\"1\" class=\"dataframe\">\n",
       "  <thead>\n",
       "    <tr style=\"text-align: right;\">\n",
       "      <th></th>\n",
       "      <th>R&amp;D Spend</th>\n",
       "      <th>Administration</th>\n",
       "      <th>Marketing Spend</th>\n",
       "      <th>State</th>\n",
       "      <th>Profit</th>\n",
       "    </tr>\n",
       "  </thead>\n",
       "  <tbody>\n",
       "    <tr>\n",
       "      <th>0</th>\n",
       "      <td>165349.2</td>\n",
       "      <td>136897.80</td>\n",
       "      <td>471784.10</td>\n",
       "      <td>New York</td>\n",
       "      <td>192261.83</td>\n",
       "    </tr>\n",
       "    <tr>\n",
       "      <th>1</th>\n",
       "      <td>162597.7</td>\n",
       "      <td>151377.59</td>\n",
       "      <td>443898.53</td>\n",
       "      <td>California</td>\n",
       "      <td>191792.06</td>\n",
       "    </tr>\n",
       "  </tbody>\n",
       "</table>\n",
       "</div>"
      ],
      "text/plain": [
       "   R&D Spend  Administration  Marketing Spend       State     Profit\n",
       "0   165349.2       136897.80        471784.10    New York  192261.83\n",
       "1   162597.7       151377.59        443898.53  California  191792.06"
      ]
     },
     "execution_count": 3,
     "metadata": {},
     "output_type": "execute_result"
    }
   ],
   "source": [
    "dataset.head(2)"
   ]
  },
  {
   "cell_type": "code",
   "execution_count": 4,
   "metadata": {},
   "outputs": [
    {
     "data": {
      "text/plain": [
       "R&D Spend          False\n",
       "Administration     False\n",
       "Marketing Spend    False\n",
       "State              False\n",
       "Profit             False\n",
       "dtype: bool"
      ]
     },
     "execution_count": 4,
     "metadata": {},
     "output_type": "execute_result"
    }
   ],
   "source": [
    "dataset.isnull().any()"
   ]
  },
  {
   "cell_type": "code",
   "execution_count": 5,
   "metadata": {},
   "outputs": [],
   "source": [
    "from sklearn.preprocessing import LabelEncoder\n",
    "le = LabelEncoder()\n",
    "dataset['State'] = le.fit_transform(dataset['State'])"
   ]
  },
  {
   "cell_type": "code",
   "execution_count": 6,
   "metadata": {},
   "outputs": [
    {
     "data": {
      "text/html": [
       "<div>\n",
       "<style scoped>\n",
       "    .dataframe tbody tr th:only-of-type {\n",
       "        vertical-align: middle;\n",
       "    }\n",
       "\n",
       "    .dataframe tbody tr th {\n",
       "        vertical-align: top;\n",
       "    }\n",
       "\n",
       "    .dataframe thead th {\n",
       "        text-align: right;\n",
       "    }\n",
       "</style>\n",
       "<table border=\"1\" class=\"dataframe\">\n",
       "  <thead>\n",
       "    <tr style=\"text-align: right;\">\n",
       "      <th></th>\n",
       "      <th>R&amp;D Spend</th>\n",
       "      <th>Administration</th>\n",
       "      <th>Marketing Spend</th>\n",
       "      <th>State</th>\n",
       "      <th>Profit</th>\n",
       "    </tr>\n",
       "  </thead>\n",
       "  <tbody>\n",
       "    <tr>\n",
       "      <th>0</th>\n",
       "      <td>165349.20</td>\n",
       "      <td>136897.80</td>\n",
       "      <td>471784.10</td>\n",
       "      <td>2</td>\n",
       "      <td>192261.83</td>\n",
       "    </tr>\n",
       "    <tr>\n",
       "      <th>1</th>\n",
       "      <td>162597.70</td>\n",
       "      <td>151377.59</td>\n",
       "      <td>443898.53</td>\n",
       "      <td>0</td>\n",
       "      <td>191792.06</td>\n",
       "    </tr>\n",
       "    <tr>\n",
       "      <th>2</th>\n",
       "      <td>153441.51</td>\n",
       "      <td>101145.55</td>\n",
       "      <td>407934.54</td>\n",
       "      <td>1</td>\n",
       "      <td>191050.39</td>\n",
       "    </tr>\n",
       "    <tr>\n",
       "      <th>3</th>\n",
       "      <td>144372.41</td>\n",
       "      <td>118671.85</td>\n",
       "      <td>383199.62</td>\n",
       "      <td>2</td>\n",
       "      <td>182901.99</td>\n",
       "    </tr>\n",
       "    <tr>\n",
       "      <th>4</th>\n",
       "      <td>142107.34</td>\n",
       "      <td>91391.77</td>\n",
       "      <td>366168.42</td>\n",
       "      <td>1</td>\n",
       "      <td>166187.94</td>\n",
       "    </tr>\n",
       "  </tbody>\n",
       "</table>\n",
       "</div>"
      ],
      "text/plain": [
       "   R&D Spend  Administration  Marketing Spend  State     Profit\n",
       "0  165349.20       136897.80        471784.10      2  192261.83\n",
       "1  162597.70       151377.59        443898.53      0  191792.06\n",
       "2  153441.51       101145.55        407934.54      1  191050.39\n",
       "3  144372.41       118671.85        383199.62      2  182901.99\n",
       "4  142107.34        91391.77        366168.42      1  166187.94"
      ]
     },
     "execution_count": 6,
     "metadata": {},
     "output_type": "execute_result"
    }
   ],
   "source": [
    "dataset.head()"
   ]
  },
  {
   "cell_type": "code",
   "execution_count": 7,
   "metadata": {},
   "outputs": [],
   "source": [
    "x  = dataset.iloc[:,0:4].values\n",
    "y = dataset.iloc[:,4:5].values"
   ]
  },
  {
   "cell_type": "code",
   "execution_count": 9,
   "metadata": {},
   "outputs": [],
   "source": [
    "from sklearn.preprocessing import OneHotEncoder\n",
    "one = OneHotEncoder()\n",
    "z=one.fit_transform(x[:,3:4]).toarray()\n",
    "x=np.delete(x,3,axis=1)\n",
    "x=np.concatenate((z,x),axis=1)\n"
   ]
  },
  {
   "cell_type": "raw",
   "metadata": {},
   "source": [
    "from sklearn.preprocessing import OneHotEncoder\n",
    "one=OneHotEncoder()\n",
    "z=one.fit_transform(x[:,3:4]).toarray()\n",
    "\n",
    "x=np.delete(x,3,axis=1)\n",
    "x=np.concatenate((z,x),axis=1)\n"
   ]
  },
  {
   "cell_type": "code",
   "execution_count": 11,
   "metadata": {},
   "outputs": [],
   "source": [
    "from sklearn.model_selection import train_test_split\n",
    "x_train,x_test,y_train,y_test = train_test_split(x,y, test_size = 0.2, random_state = 0)"
   ]
  },
  {
   "cell_type": "code",
   "execution_count": 12,
   "metadata": {},
   "outputs": [
    {
     "data": {
      "text/plain": [
       "(40, 6)"
      ]
     },
     "execution_count": 12,
     "metadata": {},
     "output_type": "execute_result"
    }
   ],
   "source": [
    "x_train.shape"
   ]
  },
  {
   "cell_type": "code",
   "execution_count": 13,
   "metadata": {},
   "outputs": [
    {
     "name": "stderr",
     "output_type": "stream",
     "text": [
      "Using TensorFlow backend.\n",
      "C:\\Users\\prads\\anaconda3\\lib\\site-packages\\tensorflow\\python\\framework\\dtypes.py:516: FutureWarning: Passing (type, 1) or '1type' as a synonym of type is deprecated; in a future version of numpy, it will be understood as (type, (1,)) / '(1,)type'.\n",
      "  _np_qint8 = np.dtype([(\"qint8\", np.int8, 1)])\n",
      "C:\\Users\\prads\\anaconda3\\lib\\site-packages\\tensorflow\\python\\framework\\dtypes.py:517: FutureWarning: Passing (type, 1) or '1type' as a synonym of type is deprecated; in a future version of numpy, it will be understood as (type, (1,)) / '(1,)type'.\n",
      "  _np_quint8 = np.dtype([(\"quint8\", np.uint8, 1)])\n",
      "C:\\Users\\prads\\anaconda3\\lib\\site-packages\\tensorflow\\python\\framework\\dtypes.py:518: FutureWarning: Passing (type, 1) or '1type' as a synonym of type is deprecated; in a future version of numpy, it will be understood as (type, (1,)) / '(1,)type'.\n",
      "  _np_qint16 = np.dtype([(\"qint16\", np.int16, 1)])\n",
      "C:\\Users\\prads\\anaconda3\\lib\\site-packages\\tensorflow\\python\\framework\\dtypes.py:519: FutureWarning: Passing (type, 1) or '1type' as a synonym of type is deprecated; in a future version of numpy, it will be understood as (type, (1,)) / '(1,)type'.\n",
      "  _np_quint16 = np.dtype([(\"quint16\", np.uint16, 1)])\n",
      "C:\\Users\\prads\\anaconda3\\lib\\site-packages\\tensorflow\\python\\framework\\dtypes.py:520: FutureWarning: Passing (type, 1) or '1type' as a synonym of type is deprecated; in a future version of numpy, it will be understood as (type, (1,)) / '(1,)type'.\n",
      "  _np_qint32 = np.dtype([(\"qint32\", np.int32, 1)])\n",
      "C:\\Users\\prads\\anaconda3\\lib\\site-packages\\tensorflow\\python\\framework\\dtypes.py:525: FutureWarning: Passing (type, 1) or '1type' as a synonym of type is deprecated; in a future version of numpy, it will be understood as (type, (1,)) / '(1,)type'.\n",
      "  np_resource = np.dtype([(\"resource\", np.ubyte, 1)])\n",
      "C:\\Users\\prads\\anaconda3\\lib\\site-packages\\tensorboard\\compat\\tensorflow_stub\\dtypes.py:541: FutureWarning: Passing (type, 1) or '1type' as a synonym of type is deprecated; in a future version of numpy, it will be understood as (type, (1,)) / '(1,)type'.\n",
      "  _np_qint8 = np.dtype([(\"qint8\", np.int8, 1)])\n",
      "C:\\Users\\prads\\anaconda3\\lib\\site-packages\\tensorboard\\compat\\tensorflow_stub\\dtypes.py:542: FutureWarning: Passing (type, 1) or '1type' as a synonym of type is deprecated; in a future version of numpy, it will be understood as (type, (1,)) / '(1,)type'.\n",
      "  _np_quint8 = np.dtype([(\"quint8\", np.uint8, 1)])\n",
      "C:\\Users\\prads\\anaconda3\\lib\\site-packages\\tensorboard\\compat\\tensorflow_stub\\dtypes.py:543: FutureWarning: Passing (type, 1) or '1type' as a synonym of type is deprecated; in a future version of numpy, it will be understood as (type, (1,)) / '(1,)type'.\n",
      "  _np_qint16 = np.dtype([(\"qint16\", np.int16, 1)])\n",
      "C:\\Users\\prads\\anaconda3\\lib\\site-packages\\tensorboard\\compat\\tensorflow_stub\\dtypes.py:544: FutureWarning: Passing (type, 1) or '1type' as a synonym of type is deprecated; in a future version of numpy, it will be understood as (type, (1,)) / '(1,)type'.\n",
      "  _np_quint16 = np.dtype([(\"quint16\", np.uint16, 1)])\n",
      "C:\\Users\\prads\\anaconda3\\lib\\site-packages\\tensorboard\\compat\\tensorflow_stub\\dtypes.py:545: FutureWarning: Passing (type, 1) or '1type' as a synonym of type is deprecated; in a future version of numpy, it will be understood as (type, (1,)) / '(1,)type'.\n",
      "  _np_qint32 = np.dtype([(\"qint32\", np.int32, 1)])\n",
      "C:\\Users\\prads\\anaconda3\\lib\\site-packages\\tensorboard\\compat\\tensorflow_stub\\dtypes.py:550: FutureWarning: Passing (type, 1) or '1type' as a synonym of type is deprecated; in a future version of numpy, it will be understood as (type, (1,)) / '(1,)type'.\n",
      "  np_resource = np.dtype([(\"resource\", np.ubyte, 1)])\n"
     ]
    }
   ],
   "source": [
    "import keras\n",
    "from keras.models import Sequential\n",
    "from keras.layers import Dense\n"
   ]
  },
  {
   "cell_type": "code",
   "execution_count": 14,
   "metadata": {},
   "outputs": [
    {
     "name": "stdout",
     "output_type": "stream",
     "text": [
      "WARNING:tensorflow:From C:\\Users\\prads\\anaconda3\\lib\\site-packages\\keras\\backend\\tensorflow_backend.py:74: The name tf.get_default_graph is deprecated. Please use tf.compat.v1.get_default_graph instead.\n",
      "\n"
     ]
    }
   ],
   "source": [
    "regressor = Sequential()"
   ]
  },
  {
   "cell_type": "code",
   "execution_count": 15,
   "metadata": {},
   "outputs": [
    {
     "data": {
      "text/plain": [
       "(40, 6)"
      ]
     },
     "execution_count": 15,
     "metadata": {},
     "output_type": "execute_result"
    }
   ],
   "source": [
    "x_train.shape"
   ]
  },
  {
   "cell_type": "code",
   "execution_count": 20,
   "metadata": {},
   "outputs": [
    {
     "name": "stderr",
     "output_type": "stream",
     "text": [
      "C:\\Users\\prads\\anaconda3\\lib\\site-packages\\ipykernel_launcher.py:1: UserWarning: Update your `Dense` call to the Keras 2 API: `Dense(units=6, activation=\"relu\", kernel_initializer=\"random_uniform\")`\n",
      "  \"\"\"Entry point for launching an IPython kernel.\n"
     ]
    }
   ],
   "source": [
    "regressor.add(Dense(units = 6,init = 'random_uniform',activation = 'relu'))"
   ]
  },
  {
   "cell_type": "code",
   "execution_count": 21,
   "metadata": {},
   "outputs": [
    {
     "name": "stderr",
     "output_type": "stream",
     "text": [
      "C:\\Users\\prads\\anaconda3\\lib\\site-packages\\ipykernel_launcher.py:1: UserWarning: Update your `Dense` call to the Keras 2 API: `Dense(units=12, activation=\"relu\", kernel_initializer=\"random_uniform\")`\n",
      "  \"\"\"Entry point for launching an IPython kernel.\n"
     ]
    }
   ],
   "source": [
    "regressor.add(Dense(units = 12,init = 'random_uniform',activation = 'relu')) # 1st hidden layer"
   ]
  },
  {
   "cell_type": "code",
   "execution_count": 22,
   "metadata": {},
   "outputs": [
    {
     "name": "stderr",
     "output_type": "stream",
     "text": [
      "C:\\Users\\prads\\anaconda3\\lib\\site-packages\\ipykernel_launcher.py:1: UserWarning: Update your `Dense` call to the Keras 2 API: `Dense(units=8, activation=\"relu\", kernel_initializer=\"random_uniform\")`\n",
      "  \"\"\"Entry point for launching an IPython kernel.\n"
     ]
    }
   ],
   "source": [
    "regressor.add(Dense(units = 8,init = 'random_uniform',activation = 'relu')) # second hiden layer"
   ]
  },
  {
   "cell_type": "code",
   "execution_count": 23,
   "metadata": {},
   "outputs": [
    {
     "name": "stderr",
     "output_type": "stream",
     "text": [
      "C:\\Users\\prads\\anaconda3\\lib\\site-packages\\ipykernel_launcher.py:1: UserWarning: Update your `Dense` call to the Keras 2 API: `Dense(units=9, activation=\"relu\", kernel_initializer=\"random_uniform\")`\n",
      "  \"\"\"Entry point for launching an IPython kernel.\n"
     ]
    }
   ],
   "source": [
    "regressor.add(Dense(units = 9,init = 'random_uniform',activation = 'relu')) # third Hidden layer"
   ]
  },
  {
   "cell_type": "code",
   "execution_count": 24,
   "metadata": {},
   "outputs": [
    {
     "name": "stderr",
     "output_type": "stream",
     "text": [
      "C:\\Users\\prads\\anaconda3\\lib\\site-packages\\ipykernel_launcher.py:1: UserWarning: Update your `Dense` call to the Keras 2 API: `Dense(units=1, kernel_initializer=\"random_uniform\")`\n",
      "  \"\"\"Entry point for launching an IPython kernel.\n"
     ]
    }
   ],
   "source": [
    "regressor.add(Dense(units = 1,init = 'random_uniform'))"
   ]
  },
  {
   "cell_type": "code",
   "execution_count": 25,
   "metadata": {},
   "outputs": [
    {
     "name": "stdout",
     "output_type": "stream",
     "text": [
      "WARNING:tensorflow:From C:\\Users\\prads\\anaconda3\\lib\\site-packages\\keras\\optimizers.py:790: The name tf.train.Optimizer is deprecated. Please use tf.compat.v1.train.Optimizer instead.\n",
      "\n"
     ]
    }
   ],
   "source": [
    "regressor.compile (optimizer = 'adam',loss = 'mse',metrics = ['mse'])"
   ]
  },
  {
   "cell_type": "code",
   "execution_count": 34,
   "metadata": {},
   "outputs": [
    {
     "name": "stdout",
     "output_type": "stream",
     "text": [
      "Epoch 1/300\n",
      "40/40 [==============================] - 0s 550us/step - loss: 188325166.0000 - mean_squared_error: 188325166.0000\n",
      "Epoch 2/300\n",
      "40/40 [==============================] - 0s 400us/step - loss: 186807352.0000 - mean_squared_error: 186807352.0000\n",
      "Epoch 3/300\n",
      "40/40 [==============================] - 0s 300us/step - loss: 186883268.0000 - mean_squared_error: 186883268.0000\n",
      "Epoch 4/300\n",
      "40/40 [==============================] - 0s 375us/step - loss: 187195854.0000 - mean_squared_error: 187195854.0000\n",
      "Epoch 5/300\n",
      "40/40 [==============================] - 0s 350us/step - loss: 186384820.0000 - mean_squared_error: 186384820.0000\n",
      "Epoch 6/300\n",
      "40/40 [==============================] - 0s 350us/step - loss: 185146560.0000 - mean_squared_error: 185146560.0000\n",
      "Epoch 7/300\n",
      "40/40 [==============================] - 0s 425us/step - loss: 183068146.0000 - mean_squared_error: 183068146.0000\n",
      "Epoch 8/300\n",
      "40/40 [==============================] - 0s 350us/step - loss: 185553400.0000 - mean_squared_error: 185553400.0000\n",
      "Epoch 9/300\n",
      "40/40 [==============================] - 0s 375us/step - loss: 183113990.0000 - mean_squared_error: 183113990.0000\n",
      "Epoch 10/300\n",
      "40/40 [==============================] - 0s 525us/step - loss: 181465136.0000 - mean_squared_error: 181465136.0000\n",
      "Epoch 11/300\n",
      "40/40 [==============================] - 0s 550us/step - loss: 180617476.0000 - mean_squared_error: 180617476.0000\n",
      "Epoch 12/300\n",
      "40/40 [==============================] - 0s 500us/step - loss: 180728799.0000 - mean_squared_error: 180728799.0000\n",
      "Epoch 13/300\n",
      "40/40 [==============================] - 0s 350us/step - loss: 180919136.0000 - mean_squared_error: 180919136.0000\n",
      "Epoch 14/300\n",
      "40/40 [==============================] - 0s 400us/step - loss: 178977474.0000 - mean_squared_error: 178977474.0000\n",
      "Epoch 15/300\n",
      "40/40 [==============================] - 0s 300us/step - loss: 179825422.0000 - mean_squared_error: 179825422.0000\n",
      "Epoch 16/300\n",
      "40/40 [==============================] - 0s 550us/step - loss: 177756180.0000 - mean_squared_error: 177756180.0000\n",
      "Epoch 17/300\n",
      "40/40 [==============================] - 0s 400us/step - loss: 177313020.0000 - mean_squared_error: 177313020.0000\n",
      "Epoch 18/300\n",
      "40/40 [==============================] - 0s 325us/step - loss: 176354856.0000 - mean_squared_error: 176354856.0000\n",
      "Epoch 19/300\n",
      "40/40 [==============================] - 0s 475us/step - loss: 176058680.0000 - mean_squared_error: 176058680.0000\n",
      "Epoch 20/300\n",
      "40/40 [==============================] - 0s 350us/step - loss: 176579332.0000 - mean_squared_error: 176579332.0000\n",
      "Epoch 21/300\n",
      "40/40 [==============================] - 0s 475us/step - loss: 174398900.0000 - mean_squared_error: 174398900.0000\n",
      "Epoch 22/300\n",
      "40/40 [==============================] - 0s 325us/step - loss: 176386670.0000 - mean_squared_error: 176386670.0000\n",
      "Epoch 23/300\n",
      "40/40 [==============================] - 0s 350us/step - loss: 173916257.0000 - mean_squared_error: 173916257.0000\n",
      "Epoch 24/300\n",
      "40/40 [==============================] - 0s 375us/step - loss: 172324586.0000 - mean_squared_error: 172324586.0000\n",
      "Epoch 25/300\n",
      "40/40 [==============================] - 0s 425us/step - loss: 171571098.0000 - mean_squared_error: 171571098.0000\n",
      "Epoch 26/300\n",
      "40/40 [==============================] - 0s 350us/step - loss: 171812856.0000 - mean_squared_error: 171812856.0000\n",
      "Epoch 27/300\n",
      "40/40 [==============================] - 0s 388us/step - loss: 171399466.0000 - mean_squared_error: 171399466.0000\n",
      "Epoch 28/300\n",
      "40/40 [==============================] - 0s 350us/step - loss: 170595414.0000 - mean_squared_error: 170595414.0000\n",
      "Epoch 29/300\n",
      "40/40 [==============================] - 0s 300us/step - loss: 169646944.0000 - mean_squared_error: 169646944.0000\n",
      "Epoch 30/300\n",
      "40/40 [==============================] - 0s 425us/step - loss: 170127344.0000 - mean_squared_error: 170127344.0000\n",
      "Epoch 31/300\n",
      "40/40 [==============================] - 0s 350us/step - loss: 170921308.0000 - mean_squared_error: 170921308.0000\n",
      "Epoch 32/300\n",
      "40/40 [==============================] - 0s 525us/step - loss: 168873460.0000 - mean_squared_error: 168873460.0000\n",
      "Epoch 33/300\n",
      "40/40 [==============================] - 0s 325us/step - loss: 168160392.0000 - mean_squared_error: 168160392.0000\n",
      "Epoch 34/300\n",
      "40/40 [==============================] - 0s 375us/step - loss: 167442294.0000 - mean_squared_error: 167442294.0000\n",
      "Epoch 35/300\n",
      "40/40 [==============================] - 0s 300us/step - loss: 167036122.0000 - mean_squared_error: 167036122.0000\n",
      "Epoch 36/300\n",
      "40/40 [==============================] - 0s 450us/step - loss: 167252686.0000 - mean_squared_error: 167252686.0000\n",
      "Epoch 37/300\n",
      "40/40 [==============================] - 0s 450us/step - loss: 166410064.0000 - mean_squared_error: 166410064.0000\n",
      "Epoch 38/300\n",
      "40/40 [==============================] - 0s 463us/step - loss: 166441236.0000 - mean_squared_error: 166441236.0000\n",
      "Epoch 39/300\n",
      "40/40 [==============================] - 0s 300us/step - loss: 166627286.0000 - mean_squared_error: 166627286.0000\n",
      "Epoch 40/300\n",
      "40/40 [==============================] - 0s 400us/step - loss: 164930701.0000 - mean_squared_error: 164930701.0000\n",
      "Epoch 41/300\n",
      "40/40 [==============================] - 0s 275us/step - loss: 165522392.0000 - mean_squared_error: 165522392.0000\n",
      "Epoch 42/300\n",
      "40/40 [==============================] - 0s 400us/step - loss: 166779892.0000 - mean_squared_error: 166779892.0000\n",
      "Epoch 43/300\n",
      "40/40 [==============================] - 0s 375us/step - loss: 164345716.0000 - mean_squared_error: 164345716.0000\n",
      "Epoch 44/300\n",
      "40/40 [==============================] - 0s 375us/step - loss: 165818450.0000 - mean_squared_error: 165818450.0000\n",
      "Epoch 45/300\n",
      "40/40 [==============================] - 0s 425us/step - loss: 163195053.0000 - mean_squared_error: 163195053.0000\n",
      "Epoch 46/300\n",
      "40/40 [==============================] - 0s 300us/step - loss: 163530886.0000 - mean_squared_error: 163530886.0000\n",
      "Epoch 47/300\n",
      "40/40 [==============================] - 0s 275us/step - loss: 162692542.0000 - mean_squared_error: 162692542.0000\n",
      "Epoch 48/300\n",
      "40/40 [==============================] - 0s 450us/step - loss: 164217874.0000 - mean_squared_error: 164217874.0000\n",
      "Epoch 49/300\n",
      "40/40 [==============================] - 0s 300us/step - loss: 161744960.0000 - mean_squared_error: 161744960.0000\n",
      "Epoch 50/300\n",
      "40/40 [==============================] - 0s 225us/step - loss: 161591648.0000 - mean_squared_error: 161591648.0000\n",
      "Epoch 51/300\n",
      "40/40 [==============================] - 0s 425us/step - loss: 165809090.0000 - mean_squared_error: 165809090.0000\n",
      "Epoch 52/300\n",
      "40/40 [==============================] - 0s 525us/step - loss: 160499674.0000 - mean_squared_error: 160499674.0000\n",
      "Epoch 53/300\n",
      "40/40 [==============================] - ETA: 0s - loss: 120316184.0000 - mean_squared_error: 120316184.00 - 0s 325us/step - loss: 160789760.0000 - mean_squared_error: 160789760.0000\n",
      "Epoch 54/300\n",
      "40/40 [==============================] - 0s 300us/step - loss: 161086454.0000 - mean_squared_error: 161086454.0000\n",
      "Epoch 55/300\n",
      "40/40 [==============================] - 0s 375us/step - loss: 160456806.0000 - mean_squared_error: 160456806.0000\n",
      "Epoch 56/300\n",
      "40/40 [==============================] - 0s 325us/step - loss: 162276270.0000 - mean_squared_error: 162276270.0000\n",
      "Epoch 57/300\n",
      "40/40 [==============================] - 0s 500us/step - loss: 160524084.0000 - mean_squared_error: 160524084.0000\n",
      "Epoch 58/300\n",
      "40/40 [==============================] - 0s 350us/step - loss: 162290444.0000 - mean_squared_error: 162290444.0000\n",
      "Epoch 59/300\n",
      "40/40 [==============================] - 0s 300us/step - loss: 160321854.0000 - mean_squared_error: 160321854.0000\n",
      "Epoch 60/300\n",
      "40/40 [==============================] - 0s 375us/step - loss: 160726522.0000 - mean_squared_error: 160726522.0000\n",
      "Epoch 61/300\n",
      "40/40 [==============================] - 0s 350us/step - loss: 163891198.0000 - mean_squared_error: 163891198.0000\n",
      "Epoch 62/300\n",
      "40/40 [==============================] - 0s 275us/step - loss: 162096986.0000 - mean_squared_error: 162096986.0000\n",
      "Epoch 63/300\n",
      "40/40 [==============================] - 0s 275us/step - loss: 159374734.0000 - mean_squared_error: 159374734.0000\n",
      "Epoch 64/300\n"
     ]
    },
    {
     "name": "stdout",
     "output_type": "stream",
     "text": [
      "40/40 [==============================] - 0s 525us/step - loss: 157944160.0000 - mean_squared_error: 157944160.0000\n",
      "Epoch 65/300\n",
      "40/40 [==============================] - 0s 350us/step - loss: 159095260.0000 - mean_squared_error: 159095260.0000\n",
      "Epoch 66/300\n",
      "40/40 [==============================] - 0s 275us/step - loss: 158047236.0000 - mean_squared_error: 158047236.0000\n",
      "Epoch 67/300\n",
      "40/40 [==============================] - 0s 300us/step - loss: 157116424.0000 - mean_squared_error: 157116424.0000\n",
      "Epoch 68/300\n",
      "40/40 [==============================] - 0s 425us/step - loss: 158646144.0000 - mean_squared_error: 158646144.0000\n",
      "Epoch 69/300\n",
      "40/40 [==============================] - 0s 450us/step - loss: 157640264.0000 - mean_squared_error: 157640264.0000\n",
      "Epoch 70/300\n",
      "40/40 [==============================] - 0s 300us/step - loss: 156206460.0000 - mean_squared_error: 156206460.0000\n",
      "Epoch 71/300\n",
      "40/40 [==============================] - 0s 475us/step - loss: 158479804.0000 - mean_squared_error: 158479804.0000\n",
      "Epoch 72/300\n",
      "40/40 [==============================] - 0s 450us/step - loss: 157041088.0000 - mean_squared_error: 157041088.0000\n",
      "Epoch 73/300\n",
      "40/40 [==============================] - 0s 625us/step - loss: 155163364.0000 - mean_squared_error: 155163364.0000\n",
      "Epoch 74/300\n",
      "40/40 [==============================] - 0s 450us/step - loss: 157051722.0000 - mean_squared_error: 157051722.0000\n",
      "Epoch 75/300\n",
      "40/40 [==============================] - 0s 575us/step - loss: 157126731.0000 - mean_squared_error: 157126731.0000\n",
      "Epoch 76/300\n",
      "40/40 [==============================] - 0s 2ms/step - loss: 155817431.0000 - mean_squared_error: 155817431.0000\n",
      "Epoch 77/300\n",
      "40/40 [==============================] - 0s 600us/step - loss: 156445406.0000 - mean_squared_error: 156445406.0000\n",
      "Epoch 78/300\n",
      "40/40 [==============================] - 0s 475us/step - loss: 156272746.0000 - mean_squared_error: 156272746.0000\n",
      "Epoch 79/300\n",
      "40/40 [==============================] - 0s 350us/step - loss: 155691986.0000 - mean_squared_error: 155691986.0000\n",
      "Epoch 80/300\n",
      "40/40 [==============================] - 0s 400us/step - loss: 155695847.0000 - mean_squared_error: 155695847.0000\n",
      "Epoch 81/300\n",
      "40/40 [==============================] - 0s 500us/step - loss: 154248840.0000 - mean_squared_error: 154248840.0000\n",
      "Epoch 82/300\n",
      "40/40 [==============================] - 0s 400us/step - loss: 155469429.0000 - mean_squared_error: 155469429.0000\n",
      "Epoch 83/300\n",
      "40/40 [==============================] - 0s 400us/step - loss: 153789100.0000 - mean_squared_error: 153789100.0000\n",
      "Epoch 84/300\n",
      "40/40 [==============================] - 0s 575us/step - loss: 154280472.0000 - mean_squared_error: 154280472.0000\n",
      "Epoch 85/300\n",
      "40/40 [==============================] - 0s 375us/step - loss: 153610947.0000 - mean_squared_error: 153610947.0000\n",
      "Epoch 86/300\n",
      "40/40 [==============================] - 0s 450us/step - loss: 153975808.0000 - mean_squared_error: 153975808.0000\n",
      "Epoch 87/300\n",
      "40/40 [==============================] - 0s 375us/step - loss: 154704204.0000 - mean_squared_error: 154704204.0000\n",
      "Epoch 88/300\n",
      "40/40 [==============================] - 0s 375us/step - loss: 153127302.0000 - mean_squared_error: 153127302.0000\n",
      "Epoch 89/300\n",
      "40/40 [==============================] - 0s 350us/step - loss: 153438930.0000 - mean_squared_error: 153438930.0000\n",
      "Epoch 90/300\n",
      "40/40 [==============================] - 0s 275us/step - loss: 152962210.0000 - mean_squared_error: 152962210.0000\n",
      "Epoch 91/300\n",
      "40/40 [==============================] - 0s 450us/step - loss: 153044422.0000 - mean_squared_error: 153044422.0000\n",
      "Epoch 92/300\n",
      "40/40 [==============================] - 0s 400us/step - loss: 152948058.0000 - mean_squared_error: 152948058.0000\n",
      "Epoch 93/300\n",
      "40/40 [==============================] - 0s 325us/step - loss: 153165276.0000 - mean_squared_error: 153165276.0000\n",
      "Epoch 94/300\n",
      "40/40 [==============================] - 0s 475us/step - loss: 154521245.0000 - mean_squared_error: 154521245.0000\n",
      "Epoch 95/300\n",
      "40/40 [==============================] - 0s 325us/step - loss: 152950556.0000 - mean_squared_error: 152950556.0000\n",
      "Epoch 96/300\n",
      "40/40 [==============================] - 0s 375us/step - loss: 152454982.0000 - mean_squared_error: 152454982.0000\n",
      "Epoch 97/300\n",
      "40/40 [==============================] - 0s 525us/step - loss: 154153418.0000 - mean_squared_error: 154153418.0000\n",
      "Epoch 98/300\n",
      "40/40 [==============================] - 0s 350us/step - loss: 151827056.0000 - mean_squared_error: 151827056.0000\n",
      "Epoch 99/300\n",
      "40/40 [==============================] - 0s 350us/step - loss: 154592190.0000 - mean_squared_error: 154592190.0000\n",
      "Epoch 100/300\n",
      "40/40 [==============================] - 0s 300us/step - loss: 151946010.0000 - mean_squared_error: 151946010.0000\n",
      "Epoch 101/300\n",
      "40/40 [==============================] - 0s 375us/step - loss: 152711332.0000 - mean_squared_error: 152711332.0000\n",
      "Epoch 102/300\n",
      "40/40 [==============================] - 0s 475us/step - loss: 155030960.0000 - mean_squared_error: 155030960.0000\n",
      "Epoch 103/300\n",
      "40/40 [==============================] - 0s 281us/step - loss: 155808220.0000 - mean_squared_error: 155808220.0000\n",
      "Epoch 104/300\n",
      "40/40 [==============================] - 0s 375us/step - loss: 152655256.0000 - mean_squared_error: 152655256.0000\n",
      "Epoch 105/300\n",
      "40/40 [==============================] - 0s 350us/step - loss: 153595230.0000 - mean_squared_error: 153595230.0000\n",
      "Epoch 106/300\n",
      "40/40 [==============================] - 0s 450us/step - loss: 152607555.0000 - mean_squared_error: 152607555.0000\n",
      "Epoch 107/300\n",
      "40/40 [==============================] - 0s 350us/step - loss: 152554456.0000 - mean_squared_error: 152554456.0000\n",
      "Epoch 108/300\n",
      "40/40 [==============================] - 0s 725us/step - loss: 153224388.0000 - mean_squared_error: 153224388.0000\n",
      "Epoch 109/300\n",
      "40/40 [==============================] - 0s 350us/step - loss: 154335261.0000 - mean_squared_error: 154335261.0000\n",
      "Epoch 110/300\n",
      "40/40 [==============================] - 0s 375us/step - loss: 152575008.0000 - mean_squared_error: 152575008.0000\n",
      "Epoch 111/300\n",
      "40/40 [==============================] - 0s 350us/step - loss: 152936884.0000 - mean_squared_error: 152936884.0000\n",
      "Epoch 112/300\n",
      "40/40 [==============================] - 0s 575us/step - loss: 151541598.0000 - mean_squared_error: 151541598.0000\n",
      "Epoch 113/300\n",
      "40/40 [==============================] - 0s 325us/step - loss: 150847196.0000 - mean_squared_error: 150847196.0000\n",
      "Epoch 114/300\n",
      "40/40 [==============================] - 0s 300us/step - loss: 151242178.0000 - mean_squared_error: 151242178.0000\n",
      "Epoch 115/300\n",
      "40/40 [==============================] - 0s 525us/step - loss: 152649896.0000 - mean_squared_error: 152649896.0000\n",
      "Epoch 116/300\n",
      "40/40 [==============================] - 0s 325us/step - loss: 158955262.0000 - mean_squared_error: 158955262.0000\n",
      "Epoch 117/300\n",
      "40/40 [==============================] - 0s 450us/step - loss: 152199370.0000 - mean_squared_error: 152199370.0000\n",
      "Epoch 118/300\n",
      "40/40 [==============================] - 0s 325us/step - loss: 151625662.0000 - mean_squared_error: 151625662.0000\n",
      "Epoch 119/300\n",
      "40/40 [==============================] - 0s 300us/step - loss: 152737526.0000 - mean_squared_error: 152737526.0000\n",
      "Epoch 120/300\n",
      "40/40 [==============================] - 0s 325us/step - loss: 150358210.0000 - mean_squared_error: 150358210.0000\n",
      "Epoch 121/300\n",
      "40/40 [==============================] - 0s 400us/step - loss: 151266254.0000 - mean_squared_error: 151266254.0000\n",
      "Epoch 122/300\n",
      "40/40 [==============================] - 0s 425us/step - loss: 157480908.0000 - mean_squared_error: 157480908.0000\n",
      "Epoch 123/300\n",
      "40/40 [==============================] - 0s 275us/step - loss: 152173223.0000 - mean_squared_error: 152173223.0000\n",
      "Epoch 124/300\n",
      "40/40 [==============================] - 0s 625us/step - loss: 151996994.0000 - mean_squared_error: 151996994.0000\n",
      "Epoch 125/300\n",
      "40/40 [==============================] - 0s 375us/step - loss: 150793116.0000 - mean_squared_error: 150793116.0000\n",
      "Epoch 126/300\n",
      "40/40 [==============================] - 0s 425us/step - loss: 150667396.0000 - mean_squared_error: 150667396.0000\n",
      "Epoch 127/300\n"
     ]
    },
    {
     "name": "stdout",
     "output_type": "stream",
     "text": [
      "40/40 [==============================] - 0s 300us/step - loss: 153833202.0000 - mean_squared_error: 153833202.0000\n",
      "Epoch 128/300\n",
      "40/40 [==============================] - 0s 375us/step - loss: 151523742.0000 - mean_squared_error: 151523742.0000\n",
      "Epoch 129/300\n",
      "40/40 [==============================] - 0s 500us/step - loss: 150562350.0000 - mean_squared_error: 150562350.0000\n",
      "Epoch 130/300\n",
      "40/40 [==============================] - 0s 350us/step - loss: 151920602.0000 - mean_squared_error: 151920602.0000\n",
      "Epoch 131/300\n",
      "40/40 [==============================] - 0s 550us/step - loss: 150288192.0000 - mean_squared_error: 150288192.0000\n",
      "Epoch 132/300\n",
      "40/40 [==============================] - 0s 525us/step - loss: 150827536.0000 - mean_squared_error: 150827536.0000\n",
      "Epoch 133/300\n",
      "40/40 [==============================] - 0s 275us/step - loss: 150582922.0000 - mean_squared_error: 150582922.0000\n",
      "Epoch 134/300\n",
      "40/40 [==============================] - 0s 450us/step - loss: 149800150.0000 - mean_squared_error: 149800150.0000\n",
      "Epoch 135/300\n",
      "40/40 [==============================] - 0s 300us/step - loss: 151122024.0000 - mean_squared_error: 151122024.0000\n",
      "Epoch 136/300\n",
      "40/40 [==============================] - 0s 450us/step - loss: 151513624.0000 - mean_squared_error: 151513624.0000\n",
      "Epoch 137/300\n",
      "40/40 [==============================] - 0s 300us/step - loss: 150289116.0000 - mean_squared_error: 150289116.0000\n",
      "Epoch 138/300\n",
      "40/40 [==============================] - 0s 725us/step - loss: 152589624.0000 - mean_squared_error: 152589624.0000\n",
      "Epoch 139/300\n",
      "40/40 [==============================] - 0s 400us/step - loss: 149858558.0000 - mean_squared_error: 149858558.0000\n",
      "Epoch 140/300\n",
      "40/40 [==============================] - 0s 575us/step - loss: 150305376.0000 - mean_squared_error: 150305376.0000\n",
      "Epoch 141/300\n",
      "40/40 [==============================] - 0s 650us/step - loss: 151500662.0000 - mean_squared_error: 151500662.0000\n",
      "Epoch 142/300\n",
      "40/40 [==============================] - 0s 450us/step - loss: 150226448.0000 - mean_squared_error: 150226448.0000\n",
      "Epoch 143/300\n",
      "40/40 [==============================] - 0s 325us/step - loss: 149661181.0000 - mean_squared_error: 149661181.0000\n",
      "Epoch 144/300\n",
      "40/40 [==============================] - 0s 400us/step - loss: 151429688.0000 - mean_squared_error: 151429688.0000\n",
      "Epoch 145/300\n",
      "40/40 [==============================] - 0s 550us/step - loss: 149670850.0000 - mean_squared_error: 149670850.0000\n",
      "Epoch 146/300\n",
      "40/40 [==============================] - 0s 300us/step - loss: 150198466.0000 - mean_squared_error: 150198466.0000\n",
      "Epoch 147/300\n",
      "40/40 [==============================] - 0s 500us/step - loss: 153347184.0000 - mean_squared_error: 153347184.0000\n",
      "Epoch 148/300\n",
      "40/40 [==============================] - 0s 500us/step - loss: 150835596.0000 - mean_squared_error: 150835596.0000\n",
      "Epoch 149/300\n",
      "40/40 [==============================] - 0s 350us/step - loss: 151514972.0000 - mean_squared_error: 151514972.0000\n",
      "Epoch 150/300\n",
      "40/40 [==============================] - 0s 500us/step - loss: 150198992.0000 - mean_squared_error: 150198992.0000\n",
      "Epoch 151/300\n",
      "40/40 [==============================] - 0s 425us/step - loss: 150159730.0000 - mean_squared_error: 150159730.0000\n",
      "Epoch 152/300\n",
      "40/40 [==============================] - 0s 400us/step - loss: 151846830.0000 - mean_squared_error: 151846830.0000\n",
      "Epoch 153/300\n",
      "40/40 [==============================] - 0s 500us/step - loss: 150886382.0000 - mean_squared_error: 150886382.0000\n",
      "Epoch 154/300\n",
      "40/40 [==============================] - 0s 500us/step - loss: 152809224.0000 - mean_squared_error: 152809224.0000\n",
      "Epoch 155/300\n",
      "40/40 [==============================] - 0s 275us/step - loss: 152530083.0000 - mean_squared_error: 152530083.0000\n",
      "Epoch 156/300\n",
      "40/40 [==============================] - 0s 450us/step - loss: 149193036.0000 - mean_squared_error: 149193036.0000\n",
      "Epoch 157/300\n",
      "40/40 [==============================] - 0s 425us/step - loss: 151257108.0000 - mean_squared_error: 151257108.0000\n",
      "Epoch 158/300\n",
      "40/40 [==============================] - 0s 425us/step - loss: 149580144.0000 - mean_squared_error: 149580144.0000\n",
      "Epoch 159/300\n",
      "40/40 [==============================] - 0s 425us/step - loss: 149933554.0000 - mean_squared_error: 149933554.0000\n",
      "Epoch 160/300\n",
      "40/40 [==============================] - 0s 325us/step - loss: 150469934.0000 - mean_squared_error: 150469934.0000\n",
      "Epoch 161/300\n",
      "40/40 [==============================] - 0s 400us/step - loss: 149600470.0000 - mean_squared_error: 149600470.0000\n",
      "Epoch 162/300\n",
      "40/40 [==============================] - 0s 375us/step - loss: 155170838.0000 - mean_squared_error: 155170838.0000\n",
      "Epoch 163/300\n",
      "40/40 [==============================] - 0s 500us/step - loss: 151126344.0000 - mean_squared_error: 151126344.0000\n",
      "Epoch 164/300\n",
      "40/40 [==============================] - 0s 300us/step - loss: 150929354.0000 - mean_squared_error: 150929354.0000\n",
      "Epoch 165/300\n",
      "40/40 [==============================] - 0s 375us/step - loss: 152998988.0000 - mean_squared_error: 152998988.0000\n",
      "Epoch 166/300\n",
      "40/40 [==============================] - 0s 475us/step - loss: 149818844.0000 - mean_squared_error: 149818844.0000\n",
      "Epoch 167/300\n",
      "40/40 [==============================] - 0s 575us/step - loss: 150616384.0000 - mean_squared_error: 150616384.0000\n",
      "Epoch 168/300\n",
      "40/40 [==============================] - 0s 325us/step - loss: 149301500.0000 - mean_squared_error: 149301500.0000\n",
      "Epoch 169/300\n",
      "40/40 [==============================] - 0s 300us/step - loss: 151117572.0000 - mean_squared_error: 151117572.0000\n",
      "Epoch 170/300\n",
      "40/40 [==============================] - 0s 325us/step - loss: 149884168.0000 - mean_squared_error: 149884168.0000\n",
      "Epoch 171/300\n",
      "40/40 [==============================] - 0s 350us/step - loss: 149855362.0000 - mean_squared_error: 149855362.0000\n",
      "Epoch 172/300\n",
      "40/40 [==============================] - 0s 350us/step - loss: 150946906.0000 - mean_squared_error: 150946906.0000\n",
      "Epoch 173/300\n",
      "40/40 [==============================] - 0s 425us/step - loss: 149385662.0000 - mean_squared_error: 149385662.0000\n",
      "Epoch 174/300\n",
      "40/40 [==============================] - 0s 375us/step - loss: 151822054.0000 - mean_squared_error: 151822054.0000\n",
      "Epoch 175/300\n",
      "40/40 [==============================] - 0s 350us/step - loss: 150612456.0000 - mean_squared_error: 150612456.0000\n",
      "Epoch 176/300\n",
      "40/40 [==============================] - 0s 325us/step - loss: 149626710.0000 - mean_squared_error: 149626710.0000\n",
      "Epoch 177/300\n",
      "40/40 [==============================] - 0s 525us/step - loss: 153917528.0000 - mean_squared_error: 153917528.0000\n",
      "Epoch 178/300\n",
      "40/40 [==============================] - 0s 400us/step - loss: 149556428.0000 - mean_squared_error: 149556428.0000\n",
      "Epoch 179/300\n",
      "40/40 [==============================] - 0s 375us/step - loss: 151062244.0000 - mean_squared_error: 151062244.0000\n",
      "Epoch 180/300\n",
      "40/40 [==============================] - 0s 375us/step - loss: 150564952.0000 - mean_squared_error: 150564952.0000\n",
      "Epoch 181/300\n",
      "40/40 [==============================] - 0s 350us/step - loss: 150085814.0000 - mean_squared_error: 150085814.0000\n",
      "Epoch 182/300\n",
      "40/40 [==============================] - 0s 300us/step - loss: 151207242.0000 - mean_squared_error: 151207242.0000\n",
      "Epoch 183/300\n",
      "40/40 [==============================] - 0s 575us/step - loss: 149184021.0000 - mean_squared_error: 149184021.0000\n",
      "Epoch 184/300\n",
      "40/40 [==============================] - 0s 500us/step - loss: 153609674.0000 - mean_squared_error: 153609674.0000\n",
      "Epoch 185/300\n",
      "40/40 [==============================] - 0s 475us/step - loss: 154728126.0000 - mean_squared_error: 154728126.0000\n",
      "Epoch 186/300\n",
      "40/40 [==============================] - 0s 325us/step - loss: 151621342.0000 - mean_squared_error: 151621342.0000\n",
      "Epoch 187/300\n",
      "40/40 [==============================] - 0s 422us/step - loss: 149356436.0000 - mean_squared_error: 149356436.0000\n",
      "Epoch 188/300\n",
      "40/40 [==============================] - 0s 300us/step - loss: 149541684.0000 - mean_squared_error: 149541684.0000\n",
      "Epoch 189/300\n",
      "40/40 [==============================] - 0s 425us/step - loss: 149195076.0000 - mean_squared_error: 149195076.0000\n",
      "Epoch 190/300\n"
     ]
    },
    {
     "name": "stdout",
     "output_type": "stream",
     "text": [
      "40/40 [==============================] - 0s 375us/step - loss: 152419908.0000 - mean_squared_error: 152419908.0000\n",
      "Epoch 191/300\n",
      "40/40 [==============================] - 0s 350us/step - loss: 148963596.0000 - mean_squared_error: 148963596.0000\n",
      "Epoch 192/300\n",
      "40/40 [==============================] - 0s 275us/step - loss: 150382540.0000 - mean_squared_error: 150382540.0000\n",
      "Epoch 193/300\n",
      "40/40 [==============================] - 0s 325us/step - loss: 149696086.0000 - mean_squared_error: 149696086.0000\n",
      "Epoch 194/300\n",
      "40/40 [==============================] - 0s 450us/step - loss: 149821388.0000 - mean_squared_error: 149821388.0000\n",
      "Epoch 195/300\n",
      "40/40 [==============================] - 0s 500us/step - loss: 150662921.0000 - mean_squared_error: 150662921.0000\n",
      "Epoch 196/300\n",
      "40/40 [==============================] - 0s 450us/step - loss: 149641304.0000 - mean_squared_error: 149641304.0000\n",
      "Epoch 197/300\n",
      "40/40 [==============================] - 0s 375us/step - loss: 150328372.0000 - mean_squared_error: 150328372.0000\n",
      "Epoch 198/300\n",
      "40/40 [==============================] - 0s 400us/step - loss: 155898698.0000 - mean_squared_error: 155898698.0000\n",
      "Epoch 199/300\n",
      "40/40 [==============================] - 0s 275us/step - loss: 150755312.0000 - mean_squared_error: 150755312.0000\n",
      "Epoch 200/300\n",
      "40/40 [==============================] - 0s 699us/step - loss: 148486014.0000 - mean_squared_error: 148486014.0000\n",
      "Epoch 201/300\n",
      "40/40 [==============================] - 0s 425us/step - loss: 150515798.0000 - mean_squared_error: 150515798.0000\n",
      "Epoch 202/300\n",
      "40/40 [==============================] - 0s 425us/step - loss: 149912974.0000 - mean_squared_error: 149912974.0000\n",
      "Epoch 203/300\n",
      "40/40 [==============================] - 0s 475us/step - loss: 149250618.0000 - mean_squared_error: 149250618.0000\n",
      "Epoch 204/300\n",
      "40/40 [==============================] - 0s 450us/step - loss: 149532904.0000 - mean_squared_error: 149532904.0000\n",
      "Epoch 205/300\n",
      "40/40 [==============================] - 0s 425us/step - loss: 152022242.0000 - mean_squared_error: 152022242.0000\n",
      "Epoch 206/300\n",
      "40/40 [==============================] - 0s 325us/step - loss: 151533428.0000 - mean_squared_error: 151533428.0000\n",
      "Epoch 207/300\n",
      "40/40 [==============================] - 0s 425us/step - loss: 151585970.0000 - mean_squared_error: 151585970.0000\n",
      "Epoch 208/300\n",
      "40/40 [==============================] - 0s 400us/step - loss: 152892396.0000 - mean_squared_error: 152892396.0000\n",
      "Epoch 209/300\n",
      "40/40 [==============================] - 0s 375us/step - loss: 149703674.0000 - mean_squared_error: 149703674.0000\n",
      "Epoch 210/300\n",
      "40/40 [==============================] - 0s 425us/step - loss: 151478908.0000 - mean_squared_error: 151478908.0000\n",
      "Epoch 211/300\n",
      "40/40 [==============================] - 0s 450us/step - loss: 148772384.0000 - mean_squared_error: 148772384.0000\n",
      "Epoch 212/300\n",
      "40/40 [==============================] - 0s 650us/step - loss: 150935670.0000 - mean_squared_error: 150935670.0000\n",
      "Epoch 213/300\n",
      "40/40 [==============================] - 0s 350us/step - loss: 151072857.0000 - mean_squared_error: 151072857.0000\n",
      "Epoch 214/300\n",
      "40/40 [==============================] - 0s 475us/step - loss: 151184512.0000 - mean_squared_error: 151184512.0000\n",
      "Epoch 215/300\n",
      "40/40 [==============================] - 0s 225us/step - loss: 149683902.0000 - mean_squared_error: 149683902.0000\n",
      "Epoch 216/300\n",
      "40/40 [==============================] - 0s 575us/step - loss: 150137604.0000 - mean_squared_error: 150137604.0000\n",
      "Epoch 217/300\n",
      "40/40 [==============================] - 0s 550us/step - loss: 149516672.0000 - mean_squared_error: 149516672.0000\n",
      "Epoch 218/300\n",
      "40/40 [==============================] - 0s 475us/step - loss: 149196516.0000 - mean_squared_error: 149196516.0000\n",
      "Epoch 219/300\n",
      "40/40 [==============================] - 0s 350us/step - loss: 151045512.0000 - mean_squared_error: 151045512.0000\n",
      "Epoch 220/300\n",
      "40/40 [==============================] - 0s 350us/step - loss: 151111856.0000 - mean_squared_error: 151111856.0000\n",
      "Epoch 221/300\n",
      "40/40 [==============================] - 0s 500us/step - loss: 155357272.0000 - mean_squared_error: 155357272.0000\n",
      "Epoch 222/300\n",
      "40/40 [==============================] - 0s 475us/step - loss: 150014706.0000 - mean_squared_error: 150014706.0000\n",
      "Epoch 223/300\n",
      "40/40 [==============================] - 0s 700us/step - loss: 152848038.0000 - mean_squared_error: 152848038.0000\n",
      "Epoch 224/300\n",
      "40/40 [==============================] - 0s 275us/step - loss: 150632994.0000 - mean_squared_error: 150632994.0000\n",
      "Epoch 225/300\n",
      "40/40 [==============================] - 0s 325us/step - loss: 149506732.0000 - mean_squared_error: 149506732.0000\n",
      "Epoch 226/300\n",
      "40/40 [==============================] - 0s 300us/step - loss: 152673328.0000 - mean_squared_error: 152673328.0000\n",
      "Epoch 227/300\n",
      "40/40 [==============================] - 0s 425us/step - loss: 152152350.0000 - mean_squared_error: 152152350.0000\n",
      "Epoch 228/300\n",
      "40/40 [==============================] - 0s 500us/step - loss: 149972666.0000 - mean_squared_error: 149972666.0000\n",
      "Epoch 229/300\n",
      "40/40 [==============================] - 0s 300us/step - loss: 149053862.0000 - mean_squared_error: 149053862.0000\n",
      "Epoch 230/300\n",
      "40/40 [==============================] - 0s 450us/step - loss: 149335206.0000 - mean_squared_error: 149335206.0000\n",
      "Epoch 231/300\n",
      "40/40 [==============================] - 0s 375us/step - loss: 149738770.0000 - mean_squared_error: 149738770.0000\n",
      "Epoch 232/300\n",
      "40/40 [==============================] - 0s 625us/step - loss: 150102620.0000 - mean_squared_error: 150102620.0000\n",
      "Epoch 233/300\n",
      "40/40 [==============================] - 0s 350us/step - loss: 152894788.0000 - mean_squared_error: 152894788.0000\n",
      "Epoch 234/300\n",
      "40/40 [==============================] - 0s 300us/step - loss: 151138756.0000 - mean_squared_error: 151138756.0000\n",
      "Epoch 235/300\n",
      "40/40 [==============================] - 0s 400us/step - loss: 149661677.0000 - mean_squared_error: 149661677.0000\n",
      "Epoch 236/300\n",
      "40/40 [==============================] - 0s 325us/step - loss: 151446934.0000 - mean_squared_error: 151446934.0000\n",
      "Epoch 237/300\n",
      "40/40 [==============================] - 0s 325us/step - loss: 150283964.0000 - mean_squared_error: 150283964.0000\n",
      "Epoch 238/300\n",
      "40/40 [==============================] - 0s 375us/step - loss: 150857510.0000 - mean_squared_error: 150857510.0000\n",
      "Epoch 239/300\n",
      "40/40 [==============================] - 0s 350us/step - loss: 149741274.0000 - mean_squared_error: 149741274.0000\n",
      "Epoch 240/300\n",
      "40/40 [==============================] - 0s 375us/step - loss: 149424252.0000 - mean_squared_error: 149424252.0000\n",
      "Epoch 241/300\n",
      "40/40 [==============================] - 0s 375us/step - loss: 151828734.0000 - mean_squared_error: 151828734.0000\n",
      "Epoch 242/300\n",
      "40/40 [==============================] - 0s 350us/step - loss: 150511722.0000 - mean_squared_error: 150511722.0000\n",
      "Epoch 243/300\n",
      "40/40 [==============================] - 0s 400us/step - loss: 149869462.0000 - mean_squared_error: 149869462.0000\n",
      "Epoch 244/300\n",
      "40/40 [==============================] - 0s 350us/step - loss: 151989340.0000 - mean_squared_error: 151989340.0000\n",
      "Epoch 245/300\n",
      "40/40 [==============================] - 0s 425us/step - loss: 154540738.0000 - mean_squared_error: 154540738.0000\n",
      "Epoch 246/300\n",
      "40/40 [==============================] - 0s 325us/step - loss: 155973408.0000 - mean_squared_error: 155973408.0000\n",
      "Epoch 247/300\n",
      "40/40 [==============================] - 0s 425us/step - loss: 152799894.0000 - mean_squared_error: 152799894.0000\n",
      "Epoch 248/300\n",
      "40/40 [==============================] - 0s 300us/step - loss: 149023360.0000 - mean_squared_error: 149023360.0000\n",
      "Epoch 249/300\n",
      "40/40 [==============================] - 0s 300us/step - loss: 150648648.0000 - mean_squared_error: 150648648.0000\n",
      "Epoch 250/300\n",
      "40/40 [==============================] - 0s 325us/step - loss: 153430012.0000 - mean_squared_error: 153430012.0000\n",
      "Epoch 251/300\n",
      "40/40 [==============================] - 0s 275us/step - loss: 148766890.0000 - mean_squared_error: 148766890.0000\n",
      "Epoch 252/300\n",
      "40/40 [==============================] - 0s 325us/step - loss: 150498830.0000 - mean_squared_error: 150498830.0000\n",
      "Epoch 253/300\n"
     ]
    },
    {
     "name": "stdout",
     "output_type": "stream",
     "text": [
      "40/40 [==============================] - 0s 200us/step - loss: 150708156.0000 - mean_squared_error: 150708156.0000\n",
      "Epoch 254/300\n",
      "40/40 [==============================] - 0s 250us/step - loss: 149805804.0000 - mean_squared_error: 149805804.0000\n",
      "Epoch 255/300\n",
      "40/40 [==============================] - 0s 200us/step - loss: 150657152.0000 - mean_squared_error: 150657152.0000\n",
      "Epoch 256/300\n",
      "40/40 [==============================] - 0s 200us/step - loss: 151886888.0000 - mean_squared_error: 151886888.0000\n",
      "Epoch 257/300\n",
      "40/40 [==============================] - 0s 325us/step - loss: 152099042.0000 - mean_squared_error: 152099042.0000\n",
      "Epoch 258/300\n",
      "40/40 [==============================] - 0s 325us/step - loss: 149058824.0000 - mean_squared_error: 149058824.0000\n",
      "Epoch 259/300\n",
      "40/40 [==============================] - 0s 250us/step - loss: 151138424.0000 - mean_squared_error: 151138424.0000\n",
      "Epoch 260/300\n",
      "40/40 [==============================] - 0s 225us/step - loss: 150263490.0000 - mean_squared_error: 150263490.0000\n",
      "Epoch 261/300\n",
      "40/40 [==============================] - 0s 200us/step - loss: 149861162.0000 - mean_squared_error: 149861162.0000\n",
      "Epoch 262/300\n",
      "40/40 [==============================] - 0s 300us/step - loss: 150125848.0000 - mean_squared_error: 150125848.0000\n",
      "Epoch 263/300\n",
      "40/40 [==============================] - 0s 250us/step - loss: 150281424.0000 - mean_squared_error: 150281424.0000\n",
      "Epoch 264/300\n",
      "40/40 [==============================] - 0s 200us/step - loss: 150070472.0000 - mean_squared_error: 150070472.0000\n",
      "Epoch 265/300\n",
      "40/40 [==============================] - 0s 250us/step - loss: 151994968.0000 - mean_squared_error: 151994968.0000\n",
      "Epoch 266/300\n",
      "40/40 [==============================] - 0s 250us/step - loss: 150277696.0000 - mean_squared_error: 150277696.0000\n",
      "Epoch 267/300\n",
      "40/40 [==============================] - 0s 250us/step - loss: 149033440.0000 - mean_squared_error: 149033440.0000\n",
      "Epoch 268/300\n",
      "40/40 [==============================] - 0s 350us/step - loss: 153846968.0000 - mean_squared_error: 153846968.0000\n",
      "Epoch 269/300\n",
      "40/40 [==============================] - 0s 225us/step - loss: 156359820.0000 - mean_squared_error: 156359820.0000\n",
      "Epoch 270/300\n",
      "40/40 [==============================] - 0s 275us/step - loss: 151004590.0000 - mean_squared_error: 151004590.0000\n",
      "Epoch 271/300\n",
      "40/40 [==============================] - 0s 275us/step - loss: 148333548.0000 - mean_squared_error: 148333548.0000\n",
      "Epoch 272/300\n",
      "40/40 [==============================] - 0s 325us/step - loss: 149654902.0000 - mean_squared_error: 149654902.0000\n",
      "Epoch 273/300\n",
      "40/40 [==============================] - 0s 475us/step - loss: 149896844.0000 - mean_squared_error: 149896844.0000\n",
      "Epoch 274/300\n",
      "40/40 [==============================] - 0s 325us/step - loss: 150317392.0000 - mean_squared_error: 150317392.0000\n",
      "Epoch 275/300\n",
      "40/40 [==============================] - 0s 275us/step - loss: 149572944.0000 - mean_squared_error: 149572944.0000\n",
      "Epoch 276/300\n",
      "40/40 [==============================] - 0s 525us/step - loss: 150442666.0000 - mean_squared_error: 150442666.0000\n",
      "Epoch 277/300\n",
      "40/40 [==============================] - 0s 375us/step - loss: 149238908.0000 - mean_squared_error: 149238908.0000\n",
      "Epoch 278/300\n",
      "40/40 [==============================] - 0s 375us/step - loss: 152174804.0000 - mean_squared_error: 152174804.0000\n",
      "Epoch 279/300\n",
      "40/40 [==============================] - 0s 325us/step - loss: 149618282.0000 - mean_squared_error: 149618282.0000\n",
      "Epoch 280/300\n",
      "40/40 [==============================] - 0s 300us/step - loss: 152947308.0000 - mean_squared_error: 152947308.0000\n",
      "Epoch 281/300\n",
      "40/40 [==============================] - 0s 300us/step - loss: 152062404.0000 - mean_squared_error: 152062404.0000\n",
      "Epoch 282/300\n",
      "40/40 [==============================] - 0s 325us/step - loss: 149902622.0000 - mean_squared_error: 149902622.0000\n",
      "Epoch 283/300\n",
      "40/40 [==============================] - 0s 500us/step - loss: 151702602.0000 - mean_squared_error: 151702602.0000\n",
      "Epoch 284/300\n",
      "40/40 [==============================] - 0s 450us/step - loss: 150727692.0000 - mean_squared_error: 150727692.0000\n",
      "Epoch 285/300\n",
      "40/40 [==============================] - 0s 350us/step - loss: 149119422.0000 - mean_squared_error: 149119422.0000\n",
      "Epoch 286/300\n",
      "40/40 [==============================] - 0s 550us/step - loss: 151667544.0000 - mean_squared_error: 151667544.0000\n",
      "Epoch 287/300\n",
      "40/40 [==============================] - 0s 325us/step - loss: 150533604.0000 - mean_squared_error: 150533604.0000\n",
      "Epoch 288/300\n",
      "40/40 [==============================] - 0s 275us/step - loss: 156617322.0000 - mean_squared_error: 156617322.0000\n",
      "Epoch 289/300\n",
      "40/40 [==============================] - 0s 300us/step - loss: 155822484.0000 - mean_squared_error: 155822484.0000\n",
      "Epoch 290/300\n",
      "40/40 [==============================] - 0s 450us/step - loss: 155587141.5000 - mean_squared_error: 155587141.5000\n",
      "Epoch 291/300\n",
      "40/40 [==============================] - 0s 400us/step - loss: 152362654.0000 - mean_squared_error: 152362654.0000\n",
      "Epoch 292/300\n",
      "40/40 [==============================] - 0s 425us/step - loss: 149750300.0000 - mean_squared_error: 149750300.0000\n",
      "Epoch 293/300\n",
      "40/40 [==============================] - 0s 325us/step - loss: 151068815.0000 - mean_squared_error: 151068815.0000\n",
      "Epoch 294/300\n",
      "40/40 [==============================] - 0s 450us/step - loss: 149499550.0000 - mean_squared_error: 149499550.0000\n",
      "Epoch 295/300\n",
      "40/40 [==============================] - ETA: 0s - loss: 158226784.0000 - mean_squared_error: 158226784.00 - 0s 425us/step - loss: 149442345.0000 - mean_squared_error: 149442345.0000\n",
      "Epoch 296/300\n",
      "40/40 [==============================] - 0s 400us/step - loss: 150426112.0000 - mean_squared_error: 150426112.0000\n",
      "Epoch 297/300\n",
      "40/40 [==============================] - 0s 350us/step - loss: 149439772.0000 - mean_squared_error: 149439772.0000\n",
      "Epoch 298/300\n",
      "40/40 [==============================] - 0s 325us/step - loss: 149442280.0000 - mean_squared_error: 149442280.0000\n",
      "Epoch 299/300\n",
      "40/40 [==============================] - 0s 375us/step - loss: 151848282.0000 - mean_squared_error: 151848282.0000\n",
      "Epoch 300/300\n",
      "40/40 [==============================] - 0s 325us/step - loss: 151502968.0000 - mean_squared_error: 151502968.0000\n"
     ]
    },
    {
     "data": {
      "text/plain": [
       "<keras.callbacks.History at 0x2b38affc388>"
      ]
     },
     "execution_count": 34,
     "metadata": {},
     "output_type": "execute_result"
    }
   ],
   "source": [
    "regressor.fit(x_train,y_train , batch_size = 10,epochs = 300)"
   ]
  },
  {
   "cell_type": "code",
   "execution_count": 35,
   "metadata": {},
   "outputs": [],
   "source": [
    "y_pred = regressor.predict(x_test)"
   ]
  },
  {
   "cell_type": "code",
   "execution_count": 36,
   "metadata": {},
   "outputs": [
    {
     "data": {
      "text/plain": [
       "array([[118098.83 ],\n",
       "       [119640.875],\n",
       "       [125617.17 ],\n",
       "       [ 60677.92 ],\n",
       "       [170721.36 ],\n",
       "       [119837.11 ],\n",
       "       [ 50282.402],\n",
       "       [102085.88 ],\n",
       "       [115817.   ],\n",
       "       [156484.86 ]], dtype=float32)"
      ]
     },
     "execution_count": 36,
     "metadata": {},
     "output_type": "execute_result"
    }
   ],
   "source": [
    "y_pred"
   ]
  },
  {
   "cell_type": "code",
   "execution_count": 37,
   "metadata": {},
   "outputs": [
    {
     "data": {
      "text/plain": [
       "array([[103282.38],\n",
       "       [144259.4 ],\n",
       "       [146121.95],\n",
       "       [ 77798.83],\n",
       "       [191050.39],\n",
       "       [105008.31],\n",
       "       [ 81229.06],\n",
       "       [ 97483.56],\n",
       "       [110352.25],\n",
       "       [166187.94]])"
      ]
     },
     "execution_count": 37,
     "metadata": {},
     "output_type": "execute_result"
    }
   ],
   "source": [
    "y_test"
   ]
  },
  {
   "cell_type": "code",
   "execution_count": 38,
   "metadata": {},
   "outputs": [],
   "source": [
    "from sklearn.metrics import r2_score\n",
    "accuracy = r2_score(y_test,y_pred)"
   ]
  },
  {
   "cell_type": "code",
   "execution_count": 39,
   "metadata": {},
   "outputs": [
    {
     "data": {
      "text/plain": [
       "0.7439014076163175"
      ]
     },
     "execution_count": 39,
     "metadata": {},
     "output_type": "execute_result"
    }
   ],
   "source": [
    "accuracy"
   ]
  },
  {
   "cell_type": "markdown",
   "metadata": {},
   "source": [
    "model.save('regressor.h5')"
   ]
  },
  {
   "cell_type": "code",
   "execution_count": 40,
   "metadata": {},
   "outputs": [],
   "source": [
    "regressor.save('regressor.h5')"
   ]
  },
  {
   "cell_type": "code",
   "execution_count": 41,
   "metadata": {},
   "outputs": [
    {
     "data": {
      "text/plain": [
       "(40, 6)"
      ]
     },
     "execution_count": 41,
     "metadata": {},
     "output_type": "execute_result"
    }
   ],
   "source": [
    "x_train.shape"
   ]
  },
  {
   "cell_type": "code",
   "execution_count": 42,
   "metadata": {},
   "outputs": [
    {
     "data": {
      "text/plain": [
       "array([[60624.297]], dtype=float32)"
      ]
     },
     "execution_count": 42,
     "metadata": {},
     "output_type": "execute_result"
    }
   ],
   "source": [
    "regressor.predict(np.array([[0,1,0,50000,60000,70000]]))"
   ]
  },
  {
   "cell_type": "code",
   "execution_count": null,
   "metadata": {},
   "outputs": [],
   "source": []
  },
  {
   "cell_type": "code",
   "execution_count": null,
   "metadata": {},
   "outputs": [],
   "source": []
  }
 ],
 "metadata": {
  "kernelspec": {
   "display_name": "Python 3",
   "language": "python",
   "name": "python3"
  },
  "language_info": {
   "codemirror_mode": {
    "name": "ipython",
    "version": 3
   },
   "file_extension": ".py",
   "mimetype": "text/x-python",
   "name": "python",
   "nbconvert_exporter": "python",
   "pygments_lexer": "ipython3",
   "version": "3.7.6"
  }
 },
 "nbformat": 4,
 "nbformat_minor": 2
}
